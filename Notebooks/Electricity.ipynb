{
 "cells": [
  {
   "cell_type": "code",
   "execution_count": 1,
   "metadata": {},
   "outputs": [],
   "source": [
    "import pandas as pd\n",
    "import numpy as np\n",
    "import datetime\n",
    "from dask import delayed,compute\n",
    "from numpy import loadtxt\n",
    "\n",
    "from sklearn.model_selection import KFold\n",
    "import matplotlib.pyplot as plt\n",
    "from sklearn.metrics import roc_auc_score\n",
    "\n",
    "from sklearn.ensemble import RandomForestRegressor\n",
    " \n",
    "from sklearn.cluster import DBSCAN\n",
    "from sklearn.decomposition import KernelPCA\n",
    "import hdbscan\n",
    "from sklearn.ensemble import RandomForestClassifier\n",
    "import joblib\n",
    "from joblib import parallel_backend\n",
    "import itertools\n",
    "import scipy.stats as st\n",
    "from sklearn.model_selection import ParameterGrid\n",
    "from coranking.metrics import trustworthiness as tw\n",
    "from coranking.metrics import continuity as ct\n",
    "from coranking.metrics import LCMC as lcmc\n",
    "import ast\n",
    "from sklearn.metrics import pairwise_distances_chunked\n",
    "import dask.array as da\n",
    "import re\n",
    "import lhsmdu\n",
    "from sklearn.neighbors import KNeighborsRegressor\n",
    "import shap\n",
    "dd"
   ]
  },
  {
   "cell_type": "code",
   "execution_count": 2,
   "metadata": {
    "colab": {},
    "colab_type": "code",
    "id": "GFy2occ2fn4-"
   },
   "outputs": [],
   "source": [
    "from scipy.spatial.distance import pdist\n",
    "from sklearn.cluster import AgglomerativeClustering\n",
    "from sklearn.metrics import silhouette_samples\n",
    "import scipy.cluster.hierarchy as hac\n",
    "from scipy.spatial.distance import squareform\n",
    "import scipy.stats as ss\n",
    "from sklearn.metrics import mutual_info_score\n",
    "import copy\n",
    "import dask\n",
    "from dask.distributed import wait\n",
    "from sklearn_extra.cluster import KMedoids\n",
    "import random\n",
    "from sklearn.discriminant_analysis import LinearDiscriminantAnalysis\n",
    "from sklearn.decomposition import IncrementalPCA\n",
    "from sklearn.decomposition import PCA\n",
    "import umap.umap_ as umap"
   ]
  },
  {
   "cell_type": "markdown",
   "metadata": {},
   "source": [
    "# Data Loading and Cleaning\n"
   ]
  },
  {
   "cell_type": "code",
   "execution_count": 29,
   "metadata": {},
   "outputs": [
    {
     "data": {
      "text/html": [
       "<div>\n",
       "<style scoped>\n",
       "    .dataframe tbody tr th:only-of-type {\n",
       "        vertical-align: middle;\n",
       "    }\n",
       "\n",
       "    .dataframe tbody tr th {\n",
       "        vertical-align: top;\n",
       "    }\n",
       "\n",
       "    .dataframe thead th {\n",
       "        text-align: right;\n",
       "    }\n",
       "</style>\n",
       "<table border=\"1\" class=\"dataframe\">\n",
       "  <thead>\n",
       "    <tr style=\"text-align: right;\">\n",
       "      <th></th>\n",
       "      <th>Unnamed: 0</th>\n",
       "      <th>mels_S</th>\n",
       "      <th>lig_S</th>\n",
       "      <th>lig_N</th>\n",
       "      <th>mels_N</th>\n",
       "      <th>hvac_N</th>\n",
       "      <th>hvac_S</th>\n",
       "    </tr>\n",
       "  </thead>\n",
       "  <tbody>\n",
       "    <tr>\n",
       "      <th>0</th>\n",
       "      <td>2018-01-01 00:00:00+00:00</td>\n",
       "      <td>NaN</td>\n",
       "      <td>NaN</td>\n",
       "      <td>NaN</td>\n",
       "      <td>NaN</td>\n",
       "      <td>36.000000</td>\n",
       "      <td>22.500000</td>\n",
       "    </tr>\n",
       "    <tr>\n",
       "      <th>1</th>\n",
       "      <td>2018-01-01 00:30:00+00:00</td>\n",
       "      <td>NaN</td>\n",
       "      <td>NaN</td>\n",
       "      <td>NaN</td>\n",
       "      <td>NaN</td>\n",
       "      <td>37.700001</td>\n",
       "      <td>19.200001</td>\n",
       "    </tr>\n",
       "    <tr>\n",
       "      <th>2</th>\n",
       "      <td>2018-01-01 01:00:00+00:00</td>\n",
       "      <td>1.25</td>\n",
       "      <td>0.2</td>\n",
       "      <td>NaN</td>\n",
       "      <td>7.15</td>\n",
       "      <td>37.450001</td>\n",
       "      <td>19.695000</td>\n",
       "    </tr>\n",
       "    <tr>\n",
       "      <th>3</th>\n",
       "      <td>2018-01-01 01:30:00+00:00</td>\n",
       "      <td>1.15</td>\n",
       "      <td>0.2</td>\n",
       "      <td>NaN</td>\n",
       "      <td>7.55</td>\n",
       "      <td>37.600000</td>\n",
       "      <td>19.094999</td>\n",
       "    </tr>\n",
       "    <tr>\n",
       "      <th>4</th>\n",
       "      <td>2018-01-01 02:00:00+00:00</td>\n",
       "      <td>1.10</td>\n",
       "      <td>0.2</td>\n",
       "      <td>NaN</td>\n",
       "      <td>7.30</td>\n",
       "      <td>37.300001</td>\n",
       "      <td>24.800000</td>\n",
       "    </tr>\n",
       "  </tbody>\n",
       "</table>\n",
       "</div>"
      ],
      "text/plain": [
       "                  Unnamed: 0  mels_S  lig_S  lig_N  mels_N     hvac_N  \\\n",
       "0  2018-01-01 00:00:00+00:00     NaN    NaN    NaN     NaN  36.000000   \n",
       "1  2018-01-01 00:30:00+00:00     NaN    NaN    NaN     NaN  37.700001   \n",
       "2  2018-01-01 01:00:00+00:00    1.25    0.2    NaN    7.15  37.450001   \n",
       "3  2018-01-01 01:30:00+00:00    1.15    0.2    NaN    7.55  37.600000   \n",
       "4  2018-01-01 02:00:00+00:00    1.10    0.2    NaN    7.30  37.300001   \n",
       "\n",
       "      hvac_S  \n",
       "0  22.500000  \n",
       "1  19.200001  \n",
       "2  19.695000  \n",
       "3  19.094999  \n",
       "4  24.800000  "
      ]
     },
     "execution_count": 29,
     "metadata": {},
     "output_type": "execute_result"
    }
   ],
   "source": [
    "electric = pd.read_csv('ele.csv')\n",
    "electric.head(5)"
   ]
  },
  {
   "cell_type": "code",
   "execution_count": 60,
   "metadata": {},
   "outputs": [
    {
     "data": {
      "text/plain": [
       "0        58.500000\n",
       "1        56.900002\n",
       "2        57.145000\n",
       "3        56.695000\n",
       "4        62.100001\n",
       "           ...    \n",
       "35036    45.551329\n",
       "35037    50.990512\n",
       "35038    49.468421\n",
       "35039    50.660921\n",
       "35040    51.731579\n",
       "Name: hvac, Length: 35041, dtype: float64"
      ]
     },
     "execution_count": 60,
     "metadata": {},
     "output_type": "execute_result"
    }
   ],
   "source": [
    "electric['hvac'] = electric['hvac_N']+ electric['hvac_S']\n",
    "target_y = electric['hvac']\n",
    "target_y\n"
   ]
  },
  {
   "cell_type": "code",
   "execution_count": 31,
   "metadata": {},
   "outputs": [
    {
     "data": {
      "text/html": [
       "<div>\n",
       "<style scoped>\n",
       "    .dataframe tbody tr th:only-of-type {\n",
       "        vertical-align: middle;\n",
       "    }\n",
       "\n",
       "    .dataframe tbody tr th {\n",
       "        vertical-align: top;\n",
       "    }\n",
       "\n",
       "    .dataframe thead th {\n",
       "        text-align: right;\n",
       "    }\n",
       "</style>\n",
       "<table border=\"1\" class=\"dataframe\">\n",
       "  <thead>\n",
       "    <tr style=\"text-align: right;\">\n",
       "      <th></th>\n",
       "      <th>Unnamed: 0</th>\n",
       "      <th>air_temp_set_1</th>\n",
       "      <th>air_temp_set_2</th>\n",
       "      <th>dew_point_temperature_set_1d</th>\n",
       "      <th>relative_humidity_set_1</th>\n",
       "      <th>solar_radiation_set_1</th>\n",
       "    </tr>\n",
       "  </thead>\n",
       "  <tbody>\n",
       "    <tr>\n",
       "      <th>0</th>\n",
       "      <td>2018-01-01 00:00:00+00:00</td>\n",
       "      <td>11.565</td>\n",
       "      <td>11.465</td>\n",
       "      <td>8.120</td>\n",
       "      <td>79.585</td>\n",
       "      <td>66.290</td>\n",
       "    </tr>\n",
       "    <tr>\n",
       "      <th>1</th>\n",
       "      <td>2018-01-01 00:30:00+00:00</td>\n",
       "      <td>11.515</td>\n",
       "      <td>11.460</td>\n",
       "      <td>8.160</td>\n",
       "      <td>80.060</td>\n",
       "      <td>36.525</td>\n",
       "    </tr>\n",
       "    <tr>\n",
       "      <th>2</th>\n",
       "      <td>2018-01-01 01:00:00+00:00</td>\n",
       "      <td>11.030</td>\n",
       "      <td>11.080</td>\n",
       "      <td>8.015</td>\n",
       "      <td>81.850</td>\n",
       "      <td>4.130</td>\n",
       "    </tr>\n",
       "    <tr>\n",
       "      <th>3</th>\n",
       "      <td>2018-01-01 01:30:00+00:00</td>\n",
       "      <td>10.750</td>\n",
       "      <td>10.785</td>\n",
       "      <td>7.975</td>\n",
       "      <td>83.150</td>\n",
       "      <td>0.120</td>\n",
       "    </tr>\n",
       "    <tr>\n",
       "      <th>4</th>\n",
       "      <td>2018-01-01 02:00:00+00:00</td>\n",
       "      <td>10.785</td>\n",
       "      <td>10.835</td>\n",
       "      <td>7.975</td>\n",
       "      <td>82.950</td>\n",
       "      <td>0.000</td>\n",
       "    </tr>\n",
       "  </tbody>\n",
       "</table>\n",
       "</div>"
      ],
      "text/plain": [
       "                  Unnamed: 0  air_temp_set_1  air_temp_set_2  \\\n",
       "0  2018-01-01 00:00:00+00:00          11.565          11.465   \n",
       "1  2018-01-01 00:30:00+00:00          11.515          11.460   \n",
       "2  2018-01-01 01:00:00+00:00          11.030          11.080   \n",
       "3  2018-01-01 01:30:00+00:00          10.750          10.785   \n",
       "4  2018-01-01 02:00:00+00:00          10.785          10.835   \n",
       "\n",
       "   dew_point_temperature_set_1d  relative_humidity_set_1  \\\n",
       "0                         8.120                   79.585   \n",
       "1                         8.160                   80.060   \n",
       "2                         8.015                   81.850   \n",
       "3                         7.975                   83.150   \n",
       "4                         7.975                   82.950   \n",
       "\n",
       "   solar_radiation_set_1  \n",
       "0                 66.290  \n",
       "1                 36.525  \n",
       "2                  4.130  \n",
       "3                  0.120  \n",
       "4                  0.000  "
      ]
     },
     "execution_count": 31,
     "metadata": {},
     "output_type": "execute_result"
    }
   ],
   "source": [
    "weather = pd.read_csv('site_weather.csv')\n",
    "weather.head(5)"
   ]
  },
  {
   "cell_type": "code",
   "execution_count": 57,
   "metadata": {},
   "outputs": [
    {
     "data": {
      "text/html": [
       "<div>\n",
       "<style scoped>\n",
       "    .dataframe tbody tr th:only-of-type {\n",
       "        vertical-align: middle;\n",
       "    }\n",
       "\n",
       "    .dataframe tbody tr th {\n",
       "        vertical-align: top;\n",
       "    }\n",
       "\n",
       "    .dataframe thead th {\n",
       "        text-align: right;\n",
       "    }\n",
       "</style>\n",
       "<table border=\"1\" class=\"dataframe\">\n",
       "  <thead>\n",
       "    <tr style=\"text-align: right;\">\n",
       "      <th></th>\n",
       "      <th>Unnamed: 0</th>\n",
       "      <th>air_temp_set_1</th>\n",
       "      <th>air_temp_set_2</th>\n",
       "      <th>dew_point_temperature_set_1d</th>\n",
       "      <th>relative_humidity_set_1</th>\n",
       "      <th>solar_radiation_set_1</th>\n",
       "    </tr>\n",
       "  </thead>\n",
       "  <tbody>\n",
       "    <tr>\n",
       "      <th>0</th>\n",
       "      <td>2018-01-01 00:00:00+00:00</td>\n",
       "      <td>11.565</td>\n",
       "      <td>11.465</td>\n",
       "      <td>8.120</td>\n",
       "      <td>79.585</td>\n",
       "      <td>66.290</td>\n",
       "    </tr>\n",
       "    <tr>\n",
       "      <th>1</th>\n",
       "      <td>2018-01-01 00:30:00+00:00</td>\n",
       "      <td>11.515</td>\n",
       "      <td>11.460</td>\n",
       "      <td>8.160</td>\n",
       "      <td>80.060</td>\n",
       "      <td>36.525</td>\n",
       "    </tr>\n",
       "    <tr>\n",
       "      <th>2</th>\n",
       "      <td>2018-01-01 01:00:00+00:00</td>\n",
       "      <td>11.030</td>\n",
       "      <td>11.080</td>\n",
       "      <td>8.015</td>\n",
       "      <td>81.850</td>\n",
       "      <td>4.130</td>\n",
       "    </tr>\n",
       "    <tr>\n",
       "      <th>3</th>\n",
       "      <td>2018-01-01 01:30:00+00:00</td>\n",
       "      <td>10.750</td>\n",
       "      <td>10.785</td>\n",
       "      <td>7.975</td>\n",
       "      <td>83.150</td>\n",
       "      <td>0.120</td>\n",
       "    </tr>\n",
       "    <tr>\n",
       "      <th>4</th>\n",
       "      <td>2018-01-01 02:00:00+00:00</td>\n",
       "      <td>10.785</td>\n",
       "      <td>10.835</td>\n",
       "      <td>7.975</td>\n",
       "      <td>82.950</td>\n",
       "      <td>0.000</td>\n",
       "    </tr>\n",
       "    <tr>\n",
       "      <th>...</th>\n",
       "      <td>...</td>\n",
       "      <td>...</td>\n",
       "      <td>...</td>\n",
       "      <td>...</td>\n",
       "      <td>...</td>\n",
       "      <td>...</td>\n",
       "    </tr>\n",
       "    <tr>\n",
       "      <th>35036</th>\n",
       "      <td>2019-12-31 22:00:00+00:00</td>\n",
       "      <td>16.090</td>\n",
       "      <td>14.280</td>\n",
       "      <td>4.780</td>\n",
       "      <td>47.320</td>\n",
       "      <td>408.200</td>\n",
       "    </tr>\n",
       "    <tr>\n",
       "      <th>35037</th>\n",
       "      <td>2019-12-31 22:30:00+00:00</td>\n",
       "      <td>17.085</td>\n",
       "      <td>14.750</td>\n",
       "      <td>3.785</td>\n",
       "      <td>41.405</td>\n",
       "      <td>330.150</td>\n",
       "    </tr>\n",
       "    <tr>\n",
       "      <th>35038</th>\n",
       "      <td>2019-12-31 23:00:00+00:00</td>\n",
       "      <td>17.885</td>\n",
       "      <td>15.150</td>\n",
       "      <td>2.845</td>\n",
       "      <td>36.820</td>\n",
       "      <td>282.100</td>\n",
       "    </tr>\n",
       "    <tr>\n",
       "      <th>35039</th>\n",
       "      <td>2019-12-31 23:30:00+00:00</td>\n",
       "      <td>17.410</td>\n",
       "      <td>15.320</td>\n",
       "      <td>2.780</td>\n",
       "      <td>37.790</td>\n",
       "      <td>212.350</td>\n",
       "    </tr>\n",
       "    <tr>\n",
       "      <th>35040</th>\n",
       "      <td>2020-01-01 00:00:00+00:00</td>\n",
       "      <td>16.040</td>\n",
       "      <td>14.990</td>\n",
       "      <td>3.030</td>\n",
       "      <td>41.950</td>\n",
       "      <td>141.700</td>\n",
       "    </tr>\n",
       "  </tbody>\n",
       "</table>\n",
       "<p>35041 rows × 6 columns</p>\n",
       "</div>"
      ],
      "text/plain": [
       "                      Unnamed: 0  air_temp_set_1  air_temp_set_2  \\\n",
       "0      2018-01-01 00:00:00+00:00          11.565          11.465   \n",
       "1      2018-01-01 00:30:00+00:00          11.515          11.460   \n",
       "2      2018-01-01 01:00:00+00:00          11.030          11.080   \n",
       "3      2018-01-01 01:30:00+00:00          10.750          10.785   \n",
       "4      2018-01-01 02:00:00+00:00          10.785          10.835   \n",
       "...                          ...             ...             ...   \n",
       "35036  2019-12-31 22:00:00+00:00          16.090          14.280   \n",
       "35037  2019-12-31 22:30:00+00:00          17.085          14.750   \n",
       "35038  2019-12-31 23:00:00+00:00          17.885          15.150   \n",
       "35039  2019-12-31 23:30:00+00:00          17.410          15.320   \n",
       "35040  2020-01-01 00:00:00+00:00          16.040          14.990   \n",
       "\n",
       "       dew_point_temperature_set_1d  relative_humidity_set_1  \\\n",
       "0                             8.120                   79.585   \n",
       "1                             8.160                   80.060   \n",
       "2                             8.015                   81.850   \n",
       "3                             7.975                   83.150   \n",
       "4                             7.975                   82.950   \n",
       "...                             ...                      ...   \n",
       "35036                         4.780                   47.320   \n",
       "35037                         3.785                   41.405   \n",
       "35038                         2.845                   36.820   \n",
       "35039                         2.780                   37.790   \n",
       "35040                         3.030                   41.950   \n",
       "\n",
       "       solar_radiation_set_1  \n",
       "0                     66.290  \n",
       "1                     36.525  \n",
       "2                      4.130  \n",
       "3                      0.120  \n",
       "4                      0.000  \n",
       "...                      ...  \n",
       "35036                408.200  \n",
       "35037                330.150  \n",
       "35038                282.100  \n",
       "35039                212.350  \n",
       "35040                141.700  \n",
       "\n",
       "[35041 rows x 6 columns]"
      ]
     },
     "execution_count": 57,
     "metadata": {},
     "output_type": "execute_result"
    }
   ],
   "source": [
    "weather"
   ]
  },
  {
   "cell_type": "code",
   "execution_count": 33,
   "metadata": {},
   "outputs": [
    {
     "data": {
      "text/plain": [
       "Int64Index([  642,   643,   644,   645,   646,   647,   648,   649,   650,\n",
       "              651,\n",
       "            ...\n",
       "            33931, 33932, 34156, 34157, 34158, 34159, 34160, 34161, 34162,\n",
       "            34163],\n",
       "           dtype='int64', length=3726)"
      ]
     },
     "execution_count": 33,
     "metadata": {},
     "output_type": "execute_result"
    }
   ],
   "source": [
    "ind_y_nan =target_y.loc[pd.isna(target_y)].index\n",
    "ind_y_nan"
   ]
  },
  {
   "cell_type": "code",
   "execution_count": 34,
   "metadata": {},
   "outputs": [
    {
     "data": {
      "text/plain": [
       "array([ 1886,  8485,  9966,  9967,  9968,  9969,  9970,  9971,  9972,\n",
       "        9973,  9974,  9975,  9976,  9977,  9980,  9982,  9984,  9985,\n",
       "        9987,  9988,  9989,  9994,  9997,  9998,  9999, 10000, 10004,\n",
       "       10011, 10012, 10013, 10017, 10019, 10021, 10022, 10024, 10026,\n",
       "       10031, 10034, 10035, 10039, 10041, 10045, 10046, 10047, 10048,\n",
       "       10049, 10051, 10052, 10067, 10076, 10085, 10086, 10089, 10092,\n",
       "       10093, 10094, 10097, 10098, 10110, 10115, 10116, 12325, 12326,\n",
       "       12478, 13526, 13527, 13530, 13531, 13534, 13535, 13538, 13539,\n",
       "       13542, 13546, 13550, 13554, 13558, 13562, 13566, 13570, 13574,\n",
       "       13578, 13582, 13614, 13618, 13622, 13626, 13630, 13634, 13682,\n",
       "       13710, 13741, 13773, 13845, 13928, 13929, 13954, 13955, 13958,\n",
       "       13959, 13962, 13963, 13974, 13975, 17014, 21406, 21407, 21408,\n",
       "       21409, 21410, 22939, 22940, 22941, 22943, 22945, 22948, 22949,\n",
       "       22976, 22977, 22978, 22995, 23023, 23024, 23027, 23028, 23029,\n",
       "       23030, 23033, 23036, 23037, 23038, 23040, 23042, 23043, 23045,\n",
       "       23046, 23048, 23049, 23050, 23054, 23056, 23060, 23062, 23063,\n",
       "       23064, 23065, 23066, 23067, 23069, 23071, 23072, 23074, 23075,\n",
       "       23076, 23077, 23079, 23082, 23084, 23086, 23088, 23089, 23090,\n",
       "       23092, 23093, 23095, 23096, 23102, 23103, 23105, 23106, 23107,\n",
       "       23108, 23110, 23114, 23117, 23118, 23120, 23121, 23122, 23126,\n",
       "       23127, 23129, 23130, 23132, 23133, 23134, 23135, 23137, 23141,\n",
       "       23142, 23146, 23147, 23150, 23151, 23152, 23154, 23155, 23159,\n",
       "       23162, 23163, 23165, 23170, 23171, 23173, 23174, 23175, 23177,\n",
       "       23178, 23180, 23183, 23184, 23188, 23191, 23192, 23195, 23199,\n",
       "       23204, 23205, 23206, 23208, 23210, 23211, 23213, 23215, 23218,\n",
       "       23223, 23224, 23225, 23226, 23227, 23228, 32007, 33349, 33390,\n",
       "       33391, 33392, 33393])"
      ]
     },
     "execution_count": 34,
     "metadata": {},
     "output_type": "execute_result"
    }
   ],
   "source": [
    "ind_x_nan = pd.isnull(weather).any(1).to_numpy().nonzero()[0]\n",
    "\n",
    "ind_x_nan"
   ]
  },
  {
   "cell_type": "code",
   "execution_count": 54,
   "metadata": {},
   "outputs": [
    {
     "data": {
      "text/plain": [
       "3942"
      ]
     },
     "execution_count": 54,
     "metadata": {},
     "output_type": "execute_result"
    }
   ],
   "source": [
    "nans = np.union1d(ind_x_nan,ind_y_nan)\n",
    "len(nans)"
   ]
  },
  {
   "cell_type": "code",
   "execution_count": 61,
   "metadata": {},
   "outputs": [
    {
     "data": {
      "text/plain": [
       "35041"
      ]
     },
     "execution_count": 61,
     "metadata": {},
     "output_type": "execute_result"
    }
   ],
   "source": [
    "nan_x = weather.index.isin(nans)\n",
    "nan_y = target_y.index.isin(nans)\n",
    "len(nan_y)"
   ]
  },
  {
   "cell_type": "code",
   "execution_count": 62,
   "metadata": {},
   "outputs": [
    {
     "data": {
      "text/plain": [
       "0"
      ]
     },
     "execution_count": 62,
     "metadata": {},
     "output_type": "execute_result"
    }
   ],
   "source": [
    "target_y = target_y[~nan_y]\n",
    "data_x = weather[~nan_x]\n",
    "data_x.isna().sum()\n",
    "target_y.isna().sum()"
   ]
  },
  {
   "cell_type": "code",
   "execution_count": 63,
   "metadata": {},
   "outputs": [
    {
     "data": {
      "text/plain": [
       "0        2018-01-01 00:00:00+00:00\n",
       "1        2018-01-01 00:30:00+00:00\n",
       "2        2018-01-01 01:00:00+00:00\n",
       "3        2018-01-01 01:30:00+00:00\n",
       "4        2018-01-01 02:00:00+00:00\n",
       "                   ...            \n",
       "35036    2019-12-31 22:00:00+00:00\n",
       "35037    2019-12-31 22:30:00+00:00\n",
       "35038    2019-12-31 23:00:00+00:00\n",
       "35039    2019-12-31 23:30:00+00:00\n",
       "35040    2020-01-01 00:00:00+00:00\n",
       "Name: Unnamed: 0, Length: 31099, dtype: object"
      ]
     },
     "execution_count": 63,
     "metadata": {},
     "output_type": "execute_result"
    }
   ],
   "source": [
    "time_col = data_x.iloc[:,0]\n",
    "time_col"
   ]
  },
  {
   "cell_type": "code",
   "execution_count": 64,
   "metadata": {},
   "outputs": [],
   "source": [
    "train_x = data_x.iloc[:round(len(data_x)*.8), 1:]\n",
    "train_y = target_y[:round(len(data_x)*.8)]\n",
    "test_x =  data_x.iloc[round(len(data_x)*.8):, 1:]\n",
    "test_y = target_y[round(len(data_x)*.8):]\n"
   ]
  },
  {
   "cell_type": "code",
   "execution_count": 65,
   "metadata": {},
   "outputs": [
    {
     "data": {
      "text/html": [
       "<div>\n",
       "<style scoped>\n",
       "    .dataframe tbody tr th:only-of-type {\n",
       "        vertical-align: middle;\n",
       "    }\n",
       "\n",
       "    .dataframe tbody tr th {\n",
       "        vertical-align: top;\n",
       "    }\n",
       "\n",
       "    .dataframe thead th {\n",
       "        text-align: right;\n",
       "    }\n",
       "</style>\n",
       "<table border=\"1\" class=\"dataframe\">\n",
       "  <thead>\n",
       "    <tr style=\"text-align: right;\">\n",
       "      <th></th>\n",
       "      <th>air_temp_set_1</th>\n",
       "      <th>air_temp_set_2</th>\n",
       "      <th>dew_point_temperature_set_1d</th>\n",
       "      <th>relative_humidity_set_1</th>\n",
       "      <th>solar_radiation_set_1</th>\n",
       "    </tr>\n",
       "  </thead>\n",
       "  <tbody>\n",
       "    <tr>\n",
       "      <th>0</th>\n",
       "      <td>11.565</td>\n",
       "      <td>11.465</td>\n",
       "      <td>8.120</td>\n",
       "      <td>79.585</td>\n",
       "      <td>66.290</td>\n",
       "    </tr>\n",
       "    <tr>\n",
       "      <th>1</th>\n",
       "      <td>11.515</td>\n",
       "      <td>11.460</td>\n",
       "      <td>8.160</td>\n",
       "      <td>80.060</td>\n",
       "      <td>36.525</td>\n",
       "    </tr>\n",
       "    <tr>\n",
       "      <th>2</th>\n",
       "      <td>11.030</td>\n",
       "      <td>11.080</td>\n",
       "      <td>8.015</td>\n",
       "      <td>81.850</td>\n",
       "      <td>4.130</td>\n",
       "    </tr>\n",
       "    <tr>\n",
       "      <th>3</th>\n",
       "      <td>10.750</td>\n",
       "      <td>10.785</td>\n",
       "      <td>7.975</td>\n",
       "      <td>83.150</td>\n",
       "      <td>0.120</td>\n",
       "    </tr>\n",
       "    <tr>\n",
       "      <th>4</th>\n",
       "      <td>10.785</td>\n",
       "      <td>10.835</td>\n",
       "      <td>7.975</td>\n",
       "      <td>82.950</td>\n",
       "      <td>0.000</td>\n",
       "    </tr>\n",
       "    <tr>\n",
       "      <th>...</th>\n",
       "      <td>...</td>\n",
       "      <td>...</td>\n",
       "      <td>...</td>\n",
       "      <td>...</td>\n",
       "      <td>...</td>\n",
       "    </tr>\n",
       "    <tr>\n",
       "      <th>27804</th>\n",
       "      <td>15.120</td>\n",
       "      <td>14.605</td>\n",
       "      <td>12.230</td>\n",
       "      <td>83.000</td>\n",
       "      <td>0.115</td>\n",
       "    </tr>\n",
       "    <tr>\n",
       "      <th>27805</th>\n",
       "      <td>14.650</td>\n",
       "      <td>14.095</td>\n",
       "      <td>12.150</td>\n",
       "      <td>85.100</td>\n",
       "      <td>0.200</td>\n",
       "    </tr>\n",
       "    <tr>\n",
       "      <th>27806</th>\n",
       "      <td>14.315</td>\n",
       "      <td>14.130</td>\n",
       "      <td>11.660</td>\n",
       "      <td>84.700</td>\n",
       "      <td>0.290</td>\n",
       "    </tr>\n",
       "    <tr>\n",
       "      <th>27807</th>\n",
       "      <td>14.165</td>\n",
       "      <td>14.105</td>\n",
       "      <td>11.675</td>\n",
       "      <td>85.100</td>\n",
       "      <td>0.400</td>\n",
       "    </tr>\n",
       "    <tr>\n",
       "      <th>27808</th>\n",
       "      <td>14.080</td>\n",
       "      <td>13.915</td>\n",
       "      <td>11.665</td>\n",
       "      <td>85.500</td>\n",
       "      <td>0.235</td>\n",
       "    </tr>\n",
       "  </tbody>\n",
       "</table>\n",
       "<p>24879 rows × 5 columns</p>\n",
       "</div>"
      ],
      "text/plain": [
       "       air_temp_set_1  air_temp_set_2  dew_point_temperature_set_1d  \\\n",
       "0              11.565          11.465                         8.120   \n",
       "1              11.515          11.460                         8.160   \n",
       "2              11.030          11.080                         8.015   \n",
       "3              10.750          10.785                         7.975   \n",
       "4              10.785          10.835                         7.975   \n",
       "...               ...             ...                           ...   \n",
       "27804          15.120          14.605                        12.230   \n",
       "27805          14.650          14.095                        12.150   \n",
       "27806          14.315          14.130                        11.660   \n",
       "27807          14.165          14.105                        11.675   \n",
       "27808          14.080          13.915                        11.665   \n",
       "\n",
       "       relative_humidity_set_1  solar_radiation_set_1  \n",
       "0                       79.585                 66.290  \n",
       "1                       80.060                 36.525  \n",
       "2                       81.850                  4.130  \n",
       "3                       83.150                  0.120  \n",
       "4                       82.950                  0.000  \n",
       "...                        ...                    ...  \n",
       "27804                   83.000                  0.115  \n",
       "27805                   85.100                  0.200  \n",
       "27806                   84.700                  0.290  \n",
       "27807                   85.100                  0.400  \n",
       "27808                   85.500                  0.235  \n",
       "\n",
       "[24879 rows x 5 columns]"
      ]
     },
     "execution_count": 65,
     "metadata": {},
     "output_type": "execute_result"
    }
   ],
   "source": [
    "train_x"
   ]
  },
  {
   "cell_type": "code",
   "execution_count": 67,
   "metadata": {},
   "outputs": [
    {
     "data": {
      "text/plain": [
       "0        58.500000\n",
       "1        56.900002\n",
       "2        57.145000\n",
       "3        56.695000\n",
       "4        62.100001\n",
       "           ...    \n",
       "27804    25.008306\n",
       "27805    28.930917\n",
       "27806    24.649783\n",
       "27807    22.650049\n",
       "27808    22.713799\n",
       "Name: hvac, Length: 24879, dtype: float64"
      ]
     },
     "execution_count": 67,
     "metadata": {},
     "output_type": "execute_result"
    }
   ],
   "source": [
    "train_y"
   ]
  },
  {
   "cell_type": "code",
   "execution_count": 80,
   "metadata": {},
   "outputs": [
    {
     "data": {
      "text/plain": [
       "<AxesSubplot:>"
      ]
     },
     "execution_count": 80,
     "metadata": {},
     "output_type": "execute_result"
    },
    {
     "data": {
      "image/png": "[encoded data removed]",
      "text/plain": [
       "<Figure size 1440x576 with 1 Axes>"
      ]
     },
     "metadata": {
      "needs_background": "light"
     },
     "output_type": "display_data"
    }
   ],
   "source": [
    "train_y.plot(figsize = (20,8))"
   ]
  },
  {
   "cell_type": "code",
   "execution_count": 85,
   "metadata": {},
   "outputs": [
    {
     "data": {
      "text/plain": [
       "<AxesSubplot:>"
      ]
     },
     "execution_count": 85,
     "metadata": {},
     "output_type": "execute_result"
    },
    {
     "data": {
      "image/png": "[encoded data removed]",
      "text/plain": [
       "<Figure size 1440x576 with 1 Axes>"
      ]
     },
     "metadata": {
      "needs_background": "light"
     },
     "output_type": "display_data"
    }
   ],
   "source": [
    "shifted = train_y-train_y.shift(1)\n",
    "shifted.dropna().plot(figsize = (20,8))"
   ]
  },
  {
   "cell_type": "code",
   "execution_count": null,
   "metadata": {},
   "outputs": [],
   "source": []
  }
 ],
 "metadata": {
  "kernelspec": {
   "display_name": "numerai-dask",
   "language": "python",
   "name": "numerai-dask"
  },
  "language_info": {
   "codemirror_mode": {
    "name": "ipython",
    "version": 3
   },
   "file_extension": ".py",
   "mimetype": "text/x-python",
   "name": "python",
   "nbconvert_exporter": "python",
   "pygments_lexer": "ipython3",
   "version": "3.7.4"
  }
 },
 "nbformat": 4,
 "nbformat_minor": 4
}
